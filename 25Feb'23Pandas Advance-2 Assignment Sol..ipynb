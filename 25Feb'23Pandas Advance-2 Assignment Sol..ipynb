{
 "cells": [
  {
   "cell_type": "markdown",
   "id": "34362d6d-435e-43a3-bbe8-e7396d97cbc2",
   "metadata": {},
   "source": [
    "Pandas Advance-2 Assignment Sol."
   ]
  },
  {
   "cell_type": "code",
   "execution_count": 2,
   "id": "741340b4-bf16-4e08-afd7-a2791f7fbef1",
   "metadata": {},
   "outputs": [],
   "source": [
    "import pandas as pd\n",
    "course_name = ['Data Science', 'Machine Learning', 'Big Data', 'Data Engineer']\n",
    "duration = [2,3,6,4]\n",
    "df = pd.DataFrame(data = {'course_name' : course_name, 'duration' : duration})"
   ]
  },
  {
   "cell_type": "code",
   "execution_count": 3,
   "id": "9e759236-7113-4042-a098-5e5adb5328b9",
   "metadata": {},
   "outputs": [
    {
     "data": {
      "text/html": [
       "<div>\n",
       "<style scoped>\n",
       "    .dataframe tbody tr th:only-of-type {\n",
       "        vertical-align: middle;\n",
       "    }\n",
       "\n",
       "    .dataframe tbody tr th {\n",
       "        vertical-align: top;\n",
       "    }\n",
       "\n",
       "    .dataframe thead th {\n",
       "        text-align: right;\n",
       "    }\n",
       "</style>\n",
       "<table border=\"1\" class=\"dataframe\">\n",
       "  <thead>\n",
       "    <tr style=\"text-align: right;\">\n",
       "      <th></th>\n",
       "      <th>course_name</th>\n",
       "      <th>duration</th>\n",
       "    </tr>\n",
       "  </thead>\n",
       "  <tbody>\n",
       "    <tr>\n",
       "      <th>0</th>\n",
       "      <td>Data Science</td>\n",
       "      <td>2</td>\n",
       "    </tr>\n",
       "    <tr>\n",
       "      <th>1</th>\n",
       "      <td>Machine Learning</td>\n",
       "      <td>3</td>\n",
       "    </tr>\n",
       "    <tr>\n",
       "      <th>2</th>\n",
       "      <td>Big Data</td>\n",
       "      <td>6</td>\n",
       "    </tr>\n",
       "    <tr>\n",
       "      <th>3</th>\n",
       "      <td>Data Engineer</td>\n",
       "      <td>4</td>\n",
       "    </tr>\n",
       "  </tbody>\n",
       "</table>\n",
       "</div>"
      ],
      "text/plain": [
       "        course_name  duration\n",
       "0      Data Science         2\n",
       "1  Machine Learning         3\n",
       "2          Big Data         6\n",
       "3     Data Engineer         4"
      ]
     },
     "execution_count": 3,
     "metadata": {},
     "output_type": "execute_result"
    }
   ],
   "source": [
    "df"
   ]
  },
  {
   "cell_type": "code",
   "execution_count": 23,
   "id": "4f5a0b86-1b9d-421c-bc3e-cc925b0c2da4",
   "metadata": {},
   "outputs": [
    {
     "data": {
      "text/html": [
       "<div>\n",
       "<style scoped>\n",
       "    .dataframe tbody tr th:only-of-type {\n",
       "        vertical-align: middle;\n",
       "    }\n",
       "\n",
       "    .dataframe tbody tr th {\n",
       "        vertical-align: top;\n",
       "    }\n",
       "\n",
       "    .dataframe thead th {\n",
       "        text-align: right;\n",
       "    }\n",
       "</style>\n",
       "<table border=\"1\" class=\"dataframe\">\n",
       "  <thead>\n",
       "    <tr style=\"text-align: right;\">\n",
       "      <th></th>\n",
       "      <th>course_name</th>\n",
       "      <th>duration</th>\n",
       "    </tr>\n",
       "  </thead>\n",
       "  <tbody>\n",
       "    <tr>\n",
       "      <th>1</th>\n",
       "      <td>Machine Learning</td>\n",
       "      <td>3</td>\n",
       "    </tr>\n",
       "  </tbody>\n",
       "</table>\n",
       "</div>"
      ],
      "text/plain": [
       "        course_name  duration\n",
       "1  Machine Learning         3"
      ]
     },
     "execution_count": 23,
     "metadata": {},
     "output_type": "execute_result"
    }
   ],
   "source": [
    "#Q1. Write a code to print the data present in the second row of the dataframe, df.\n",
    "#Ans-\n",
    "\n",
    "\n",
    "df.iloc[[1]]"
   ]
  },
  {
   "cell_type": "code",
   "execution_count": null,
   "id": "e9114746-a7da-4dfd-b6f9-a9a601b6d2e9",
   "metadata": {},
   "outputs": [],
   "source": [
    "#Q2. What is the difference between the functions loc and iloc in pandas.DataFrame?\n",
    "#Ans-\n",
    "\n",
    "'''Both loc and iloc are pandas.DataFrame methods used to select specific rows and columns in a DataFrame, but they differ in the way they index data.\n",
    "\n",
    "The loc method is label-based, meaning that it takes label-based indices to select data from a DataFrame. \n",
    "It works by specifying the labels of rows and columns that you want to select. \n",
    "\n",
    "The iloc method, on the other hand, is integer-based and works by specifying the integer positions of rows and columns you want to select. \n",
    "For example, to select the first two rows and the first three columns of a DataFrame'''\n",
    "\n"
   ]
  },
  {
   "cell_type": "code",
   "execution_count": 20,
   "id": "ed8fee7e-f013-43b6-8c88-32480f4a6f34",
   "metadata": {},
   "outputs": [],
   "source": [
    "#Q3. Reindex the given dataframe using a variable, reindex = [3,0,1,2] and store it in the variable, new_df then find the output for both new_df.loc[2] and new_df.iloc[2].\n",
    "#Ans-\n",
    "\n",
    "\n",
    "# reindex the DataFrame\n",
    "reindex = [3, 0, 1, 2]\n",
    "new_df = df.reindex(index=reindex)\n"
   ]
  },
  {
   "cell_type": "code",
   "execution_count": 21,
   "id": "25928896-3588-4c84-886b-59acfe56bcc1",
   "metadata": {},
   "outputs": [
    {
     "data": {
      "text/plain": [
       "course_name    Big Data\n",
       "duration              6\n",
       "Name: 2, dtype: object"
      ]
     },
     "execution_count": 21,
     "metadata": {},
     "output_type": "execute_result"
    }
   ],
   "source": [
    "new_df.loc[2]"
   ]
  },
  {
   "cell_type": "code",
   "execution_count": 22,
   "id": "5a507403-b651-47b4-ad68-57c87e3693a1",
   "metadata": {},
   "outputs": [
    {
     "data": {
      "text/plain": [
       "course_name    Machine Learning\n",
       "duration                      3\n",
       "Name: 1, dtype: object"
      ]
     },
     "execution_count": 22,
     "metadata": {},
     "output_type": "execute_result"
    }
   ],
   "source": [
    "new_df.iloc[2]"
   ]
  },
  {
   "cell_type": "code",
   "execution_count": null,
   "id": "baab84f0-589a-49f4-9e6e-f99599f7fdd1",
   "metadata": {},
   "outputs": [],
   "source": [
    "'''To reindex the DataFrame, we create a list reindex with the desired order of the rows and pass it to the reindex() method of the DataFrame to create a new DataFrame new_df with the rows reordered.\n",
    "\n",
    "We then use the loc and iloc methods to select the second row of the new DataFrame new_df. We observe that the output of new_df.loc[2] is different from that of new_df.iloc[2]. \n",
    "This is because loc method uses label-based indexing and iloc method uses integer-based indexing. \n",
    "After reindexing, the labels of the rows are different from their original integer-based indices, which is why the two methods return different rows.'''\n"
   ]
  },
  {
   "cell_type": "code",
   "execution_count": null,
   "id": "01612195-2dad-4007-94f0-e02dacf8c67b",
   "metadata": {},
   "outputs": [],
   "source": []
  },
  {
   "cell_type": "code",
   "execution_count": 25,
   "id": "02a9141d-1333-41cf-b15e-f1b4157442f3",
   "metadata": {},
   "outputs": [],
   "source": [
    "#Consider the below code to answer further questions:\n",
    "import pandas as pd\n",
    "import numpy as np\n",
    "columns = ['column_1', 'column_2', 'column_3', 'column_4', 'column_5', 'column_6']\n",
    "indices = [1,2,3,4,5,6]\n",
    "#Creating a dataframe:\n",
    "df1 = pd.DataFrame(np.random.rand(6,6), columns = columns, index = indices)"
   ]
  },
  {
   "cell_type": "code",
   "execution_count": null,
   "id": "4c509d49-03af-4fac-b15a-504525c0338b",
   "metadata": {},
   "outputs": [],
   "source": [
    "#Q4. Write a code to find the following statistical measurements for the above dataframe df1:\n",
    "#(i) mean of each and every column present in the dataframe.\n",
    "#(ii) standard deviation of column, ‘column_2’"
   ]
  },
  {
   "cell_type": "code",
   "execution_count": 26,
   "id": "7ec4c610-4496-4344-a2de-94e453beb5a6",
   "metadata": {},
   "outputs": [
    {
     "data": {
      "text/html": [
       "<div>\n",
       "<style scoped>\n",
       "    .dataframe tbody tr th:only-of-type {\n",
       "        vertical-align: middle;\n",
       "    }\n",
       "\n",
       "    .dataframe tbody tr th {\n",
       "        vertical-align: top;\n",
       "    }\n",
       "\n",
       "    .dataframe thead th {\n",
       "        text-align: right;\n",
       "    }\n",
       "</style>\n",
       "<table border=\"1\" class=\"dataframe\">\n",
       "  <thead>\n",
       "    <tr style=\"text-align: right;\">\n",
       "      <th></th>\n",
       "      <th>column_1</th>\n",
       "      <th>column_2</th>\n",
       "      <th>column_3</th>\n",
       "      <th>column_4</th>\n",
       "      <th>column_5</th>\n",
       "      <th>column_6</th>\n",
       "    </tr>\n",
       "  </thead>\n",
       "  <tbody>\n",
       "    <tr>\n",
       "      <th>1</th>\n",
       "      <td>0.937022</td>\n",
       "      <td>0.826263</td>\n",
       "      <td>0.517829</td>\n",
       "      <td>0.285638</td>\n",
       "      <td>0.513655</td>\n",
       "      <td>0.452952</td>\n",
       "    </tr>\n",
       "    <tr>\n",
       "      <th>2</th>\n",
       "      <td>0.381216</td>\n",
       "      <td>0.458978</td>\n",
       "      <td>0.113407</td>\n",
       "      <td>0.573247</td>\n",
       "      <td>0.657525</td>\n",
       "      <td>0.588111</td>\n",
       "    </tr>\n",
       "    <tr>\n",
       "      <th>3</th>\n",
       "      <td>0.281632</td>\n",
       "      <td>0.756866</td>\n",
       "      <td>0.082258</td>\n",
       "      <td>0.066887</td>\n",
       "      <td>0.019135</td>\n",
       "      <td>0.291154</td>\n",
       "    </tr>\n",
       "    <tr>\n",
       "      <th>4</th>\n",
       "      <td>0.028203</td>\n",
       "      <td>0.145733</td>\n",
       "      <td>0.638095</td>\n",
       "      <td>0.172948</td>\n",
       "      <td>0.086067</td>\n",
       "      <td>0.906366</td>\n",
       "    </tr>\n",
       "    <tr>\n",
       "      <th>5</th>\n",
       "      <td>0.298605</td>\n",
       "      <td>0.482235</td>\n",
       "      <td>0.830006</td>\n",
       "      <td>0.357571</td>\n",
       "      <td>0.260708</td>\n",
       "      <td>0.340886</td>\n",
       "    </tr>\n",
       "    <tr>\n",
       "      <th>6</th>\n",
       "      <td>0.478263</td>\n",
       "      <td>0.062343</td>\n",
       "      <td>0.585599</td>\n",
       "      <td>0.397586</td>\n",
       "      <td>0.429219</td>\n",
       "      <td>0.525302</td>\n",
       "    </tr>\n",
       "  </tbody>\n",
       "</table>\n",
       "</div>"
      ],
      "text/plain": [
       "   column_1  column_2  column_3  column_4  column_5  column_6\n",
       "1  0.937022  0.826263  0.517829  0.285638  0.513655  0.452952\n",
       "2  0.381216  0.458978  0.113407  0.573247  0.657525  0.588111\n",
       "3  0.281632  0.756866  0.082258  0.066887  0.019135  0.291154\n",
       "4  0.028203  0.145733  0.638095  0.172948  0.086067  0.906366\n",
       "5  0.298605  0.482235  0.830006  0.357571  0.260708  0.340886\n",
       "6  0.478263  0.062343  0.585599  0.397586  0.429219  0.525302"
      ]
     },
     "execution_count": 26,
     "metadata": {},
     "output_type": "execute_result"
    }
   ],
   "source": [
    "df1"
   ]
  },
  {
   "cell_type": "code",
   "execution_count": 27,
   "id": "f09189e2-ab57-4a6b-aa11-9a6baaba9ba6",
   "metadata": {},
   "outputs": [
    {
     "name": "stdout",
     "output_type": "stream",
     "text": [
      "Mean of each column:\n",
      " column_1    0.400824\n",
      "column_2    0.455403\n",
      "column_3    0.461199\n",
      "column_4    0.308979\n",
      "column_5    0.327718\n",
      "column_6    0.517462\n",
      "dtype: float64\n",
      "Standard deviation of column_2: 0.3096905797887771\n"
     ]
    }
   ],
   "source": [
    "# compute the mean of each column\n",
    "means = df1.mean()\n",
    "print(\"Mean of each column:\\n\", means)\n",
    "\n",
    "# compute the standard deviation of column_2\n",
    "std_col2 = df1['column_2'].std()\n",
    "print(\"Standard deviation of column_2:\", std_col2)"
   ]
  },
  {
   "cell_type": "code",
   "execution_count": null,
   "id": "d8e29380-f758-40b2-b962-2bc81af414d1",
   "metadata": {},
   "outputs": [],
   "source": [
    "#Q5. Replace the data present in the second row of column, ‘column_2’ by a string variable then find the mean of column, column_2.\n",
    "#If you are getting errors in executing it then explain why.\n",
    "#[Hint: To replace the data use df1.loc[] and equate this to string data of your choice.]\n",
    "\n",
    "#Ans-\n",
    "\n",
    "import pandas as pd\n",
    "import numpy as np\n",
    "\n",
    "# define the columns and indices\n",
    "columns = ['column_1', 'column_2', 'column_3', 'column_4', 'column_5', 'column_6']\n",
    "indices = [1, 2, 3, 4, 5, 6]\n",
    "\n",
    "# create the DataFrame\n",
    "df1 = pd.DataFrame(np.random.rand(6, 6), columns=columns, index=indices)\n",
    "\n",
    "# replace data in second row of column_2 with a string\n",
    "df1.loc[2, 'column_2'] = 'some string'\n",
    "\n",
    "# compute the mean of column_2\n",
    "# Note: since we have a string in one of the rows, the mean calculation will fail with a TypeError\n",
    "mean_col2 = df1['column_2'].mean()\n",
    "print(\"Mean of column_2:\", mean_col2)\n",
    "\n",
    "\n",
    "'''In this code, we use the loc[] method to select the second row of column 'column_2' and replace its data with a string. We then try to compute the mean of column 'column_2' using the mean() method, but we encounter a TypeError because we have a string in one of the rows.\n",
    "\n",
    "To avoid this error, we need to either remove the string from the column or convert it to a numeric value before computing the mean.'''"
   ]
  },
  {
   "cell_type": "code",
   "execution_count": null,
   "id": "d0d486fd-b8d9-458f-9ed7-023491873064",
   "metadata": {},
   "outputs": [],
   "source": []
  },
  {
   "cell_type": "code",
   "execution_count": null,
   "id": "77394fd0-4a96-4559-b491-76e906b14ac2",
   "metadata": {},
   "outputs": [],
   "source": [
    "#Q6. What do you understand about the windows function in pandas and list the types of windows functions?\n",
    "#Ans-\n",
    "'''In Pandas, a window function, also known as a rolling or moving function, allows you to perform calculations on a rolling window of data over a specified period of time. \n",
    "The window function processes data in a sliding window of fixed size, and applies a function to the data inside the window.\n",
    "\n",
    "The types of window functions available in Pandas include:\n",
    "\n",
    "1. Rolling window functions: These functions compute a rolling statistic over a fixed window size, which can be either time- or count-based. \n",
    "Examples include rolling.mean(), rolling.sum(), and rolling.std().\n",
    "\n",
    "2. Expanding window functions: These functions compute statistics for the expanding window of data from the start to the current position. \n",
    "Examples include expanding.mean(), expanding.sum(), and expanding.std().\n",
    "\n",
    "3. Exponentially-weighted window functions: These functions compute an exponentially-weighted moving average over a specified span of time. \n",
    "Examples include ewm.mean() and ewm.std().\n",
    "\n",
    "4. Rolling window apply functions: These functions apply a custom function to the rolling window of data. \n",
    "Examples include rolling.apply() and rolling.aggregate().\n",
    "\n",
    "Window functions are useful for time series data analysis, where we need to compute rolling or moving statistics over a fixed period of time. \n",
    "They can be used to smooth out the data and identify trends, patterns, and anomalies."
   ]
  },
  {
   "cell_type": "code",
   "execution_count": 31,
   "id": "4c276d45-5d90-4d65-98d6-e8d1552dae6a",
   "metadata": {},
   "outputs": [
    {
     "name": "stdout",
     "output_type": "stream",
     "text": [
      "Current month and year: April 2023\n"
     ]
    },
    {
     "name": "stderr",
     "output_type": "stream",
     "text": [
      "/tmp/ipykernel_145/458792703.py:4: FutureWarning: The pandas.datetime class is deprecated and will be removed from pandas in a future version. Import from datetime module instead.\n",
      "  now = pd.datetime.now()\n"
     ]
    }
   ],
   "source": [
    "#Q7. Write a code to print only the current month and year at the time of answering this question.\n",
    "#[Hint: Use pandas.datetime function]\n",
    "#Ans-\n",
    "now = pd.datetime.now()\n",
    "print(\"Current month and year:\", now.strftime(\"%B %Y\"))"
   ]
  },
  {
   "cell_type": "code",
   "execution_count": 32,
   "id": "2cfa6c65-62bd-4280-91f1-5d24ab932d20",
   "metadata": {},
   "outputs": [
    {
     "name": "stdin",
     "output_type": "stream",
     "text": [
      "Enter the first date in YYYY-MM-DD format:  1996-06-23\n",
      "Enter the second date in YYYY-MM-DD format:  2023-04-18\n"
     ]
    },
    {
     "name": "stdout",
     "output_type": "stream",
     "text": [
      "The time difference between 1996-06-23 and 2023-04-18 is 9795 days, 0 hours, and 0 minutes.\n"
     ]
    }
   ],
   "source": [
    "#Q8. Write a Python program that takes in two dates as input (in the format YYYY-MM-DD) and calculates the difference between them in days, hours, and minutes using Pandas time delta. \n",
    "#The program should prompt the user to enter the dates and display the result.\n",
    "\n",
    "import pandas as pd\n",
    "\n",
    "# prompt the user to enter the first date\n",
    "date1_str = input(\"Enter the first date in YYYY-MM-DD format: \")\n",
    "date1 = pd.to_datetime(date1_str)\n",
    "\n",
    "# prompt the user to enter the second date\n",
    "date2_str = input(\"Enter the second date in YYYY-MM-DD format: \")\n",
    "date2 = pd.to_datetime(date2_str)\n",
    "\n",
    "# calculate the time difference using Pandas timedelta\n",
    "time_diff = date2 - date1\n",
    "\n",
    "# extract the number of days, hours, and minutes from the time difference\n",
    "days = time_diff.days\n",
    "hours, remainder = divmod(time_diff.seconds, 3600)\n",
    "minutes, seconds = divmod(remainder, 60)\n",
    "\n",
    "# display the result\n",
    "print(f\"The time difference between {date1.date()} and {date2.date()} is {days} days, {hours} hours, and {minutes} minutes.\")\n"
   ]
  },
  {
   "cell_type": "code",
   "execution_count": null,
   "id": "b0f74855-4ee1-44c8-bd4b-6fcdb5cab651",
   "metadata": {},
   "outputs": [],
   "source": [
    "#Q9. Write a Python program that reads a CSV file containing categorical data and converts a specified column to a categorical data type. The program should prompt the user to enter the file path, column name, and category order, and then display the sorted data.\n",
    "#Ans-\n",
    "\n",
    "import pandas as pd\n",
    "\n",
    "# Get file path and column name from user\n",
    "file_path = input(\"Enter the file path: \")\n",
    "column_name = input(\"Enter the column name: \")\n",
    "\n",
    "# Read CSV file into a Pandas DataFrame\n",
    "df = pd.read_csv(file_path)\n",
    "\n",
    "# Get category order from user\n",
    "category_order = input(\"Enter the category order (comma-separated): \")\n",
    "category_order = category_order.split(\",\")\n",
    "\n",
    "# Convert column to categorical data type with specified order\n",
    "df[column_name] = pd.Categorical(df[column_name], categories=category_order, ordered=True)\n",
    "\n",
    "# Sort DataFrame by specified column\n",
    "df = df.sort_values(by=column_name)\n",
    "\n",
    "# Display sorted data\n",
    "print(df)\n"
   ]
  },
  {
   "cell_type": "code",
   "execution_count": null,
   "id": "c38f300d-0ba4-4242-83bd-f6010a0eedb6",
   "metadata": {},
   "outputs": [],
   "source": []
  },
  {
   "cell_type": "code",
   "execution_count": null,
   "id": "497f4d61-ef48-4616-978a-696e8b28a975",
   "metadata": {},
   "outputs": [],
   "source": [
    "#Q10. Write a Python program that reads a CSV file containing sales data for different products and visualizes the data using a stacked bar chart to show the sales of each product category over time. \n",
    "#The program should prompt the user to enter the file path and display the chart.\n",
    "#Ans-\n",
    "\n",
    "import pandas as pd\n",
    "import matplotlib.pyplot as plt\n",
    "\n",
    "# Get file path from user\n",
    "file_path = input(\"Enter the file path: \")\n",
    "\n",
    "# Read CSV file into a Pandas DataFrame\n",
    "df = pd.read_csv(file_path)\n",
    "\n",
    "# Set the 'Date' column as the index and sort by index\n",
    "df = df.set_index('Date').sort_index()\n",
    "\n",
    "# Get the unique product categories\n",
    "product_categories = df['Product Category'].unique()\n",
    "\n",
    "# Create a new DataFrame with sales data grouped by product category and date\n",
    "sales_data = df.groupby(['Product Category', 'Date']).sum()['Sales'].unstack()\n",
    "\n",
    "# Create a stacked bar chart of the sales data\n",
    "sales_data.plot(kind='bar', stacked=True)\n",
    "\n",
    "# Set chart title and axis labels\n",
    "plt.title('Sales by Product Category')\n",
    "plt.xlabel('Date')\n",
    "plt.ylabel('Sales')\n",
    "\n",
    "# Set legend\n",
    "plt.legend(product_categories, loc='upper left')\n",
    "\n",
    "# Show chart\n",
    "plt.show()\n"
   ]
  },
  {
   "cell_type": "code",
   "execution_count": null,
   "id": "8909dcf8-aff7-4dee-8c17-320a8c873f3a",
   "metadata": {},
   "outputs": [],
   "source": []
  },
  {
   "cell_type": "code",
   "execution_count": null,
   "id": "4c44a56d-9335-46eb-9c04-3eadb3bbcd27",
   "metadata": {},
   "outputs": [],
   "source": [
    "'''Q11. You are given a CSV file containing student data that includes the student ID and their test score. Write\n",
    "a Python program that reads the CSV file, calculates the mean, median, and mode of the test scores, and\n",
    "displays the results in a table.\n",
    "The program should do the following\n",
    " Prompt the user to enter the file path of the CSV file containing the student dataR\n",
    " Read the CSV file into a Pandas DataFrame\n",
    " Calculate the mean, median, and mode of the test scores using Pandas toolsR\n",
    " Display the mean, median, and mode in a table.\n",
    "Assume the CSV file contains the following columns\n",
    "Student ID: The ID of the student\n",
    "Test Score: The score of the student's test.\n",
    "Example usage of the program:\n",
    "Enter the file path of the CSV file containing the student data: student_data.csv\n",
    "+-----------+--------+\n",
    "| Statistic | Value |\n",
    "+-----------+--------+\n",
    "| Mean | 79.6 |\n",
    "| Median | 82 |\n",
    "| Mode | 85, 90 |\n",
    "+-----------+--------+\n",
    "Assume that the CSV file student_data.csv contains the following data:\n",
    "Student ID,Test Score\n",
    "1,85\n",
    "2,90\n",
    "3,80\n",
    "4,75\n",
    "5,85\n",
    "6,82\n",
    "7,78\n",
    "8,85\n",
    "9,90\n",
    "10,85\n",
    "The program should calculate the mean, median, and mode of the test scores and display the results\n",
    "in a table.'''"
   ]
  },
  {
   "cell_type": "code",
   "execution_count": null,
   "id": "dfcacb82-a278-4c30-8d60-893cffdf03c3",
   "metadata": {},
   "outputs": [],
   "source": [
    "import pandas as pd\n",
    "\n",
    "data1 = pd.DataFrame({'Student ID' : [1,2,3,4,5,6,7,8,9,10],\n",
    "                             'Test Score' : [85,90,80,75,85,82,78,85,90,85]})\n",
    "\n",
    "data1.to_csv('student_data.csv', index= False)\n",
    "student_data"
   ]
  },
  {
   "cell_type": "code",
   "execution_count": null,
   "id": "cb39f1fc-67cc-4d09-bee4-669e98476253",
   "metadata": {},
   "outputs": [],
   "source": [
    "import pandas as pd\n",
    "\n",
    "# Prompt the user for the file path\n",
    "file_path = input(\"Enter the file path of the CSV file containing student data: \")\n",
    "\n",
    "# Read the CSV file into a Pandas DataFrame\n",
    "data = pd.read_csv(file_path)\n",
    "\n",
    "# Calculate the mean, median, and mode of the test scores\n",
    "mean = data['Test Score'].mean()\n",
    "median = data['Test Score'].median()\n",
    "mode = data['Test Score'].mode()\n",
    "\n",
    "# Display the results in a table\n",
    "print(\"+-----------+--------+\")\n",
    "print(\"| Statistic | Value  |\")\n",
    "print(\"+-----------+--------+\")\n",
    "print(f\"| Mean      | {mean:.1f} |\")\n",
    "print(\"| Median    | {:<5}  |\".format(median))\n",
    "print(\"| Mode      | \", end=\"\")\n",
    "for i, val in enumerate(mode):\n",
    "    if i == len(mode)-1:\n",
    "        print(val, end=\"\")\n",
    "    else:\n",
    "        print(f\"{val}, \", end=\"\")\n",
    "print(\" \"*(7-len(str(mode))) + \" |\")\n",
    "print(\"+-----------+--------+\")\n"
   ]
  }
 ],
 "metadata": {
  "kernelspec": {
   "display_name": "Python 3 (ipykernel)",
   "language": "python",
   "name": "python3"
  },
  "language_info": {
   "codemirror_mode": {
    "name": "ipython",
    "version": 3
   },
   "file_extension": ".py",
   "mimetype": "text/x-python",
   "name": "python",
   "nbconvert_exporter": "python",
   "pygments_lexer": "ipython3",
   "version": "3.10.8"
  }
 },
 "nbformat": 4,
 "nbformat_minor": 5
}
